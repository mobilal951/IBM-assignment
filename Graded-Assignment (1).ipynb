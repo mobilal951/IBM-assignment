{
  "metadata": {
    "language_info": {
      "codemirror_mode": {
        "name": "python",
        "version": 3
      },
      "file_extension": ".py",
      "mimetype": "text/x-python",
      "name": "python",
      "nbconvert_exporter": "python",
      "pygments_lexer": "ipython3",
      "version": "3.8"
    },
    "kernelspec": {
      "name": "python",
      "display_name": "Python (Pyodide)",
      "language": "python"
    }
  },
  "nbformat_minor": 4,
  "nbformat": 4,
  "cells": [
    {
      "cell_type": "markdown",
      "source": "# My Jupyter Notebook on IBM Watson Studio",
      "metadata": {}
    },
    {
      "cell_type": "markdown",
      "source": "**Muhammad Bilal** </br>\nData Analyst",
      "metadata": {}
    },
    {
      "cell_type": "markdown",
      "source": "*I am interested in data science because i love data and want to utilize the powerful machines we have got today to get insights from data.*",
      "metadata": {}
    },
    {
      "cell_type": "markdown",
      "source": "### A simple addition function.",
      "metadata": {}
    },
    {
      "cell_type": "code",
      "source": "def add(a,b):\n    return a+b\nprint(add(5,7))",
      "metadata": {
        "trusted": true
      },
      "execution_count": 1,
      "outputs": [
        {
          "name": "stdout",
          "text": "12\n",
          "output_type": "stream"
        }
      ]
    },
    {
      "cell_type": "markdown",
      "source": "Bulleted List : \n* One\n* Two\n* Three\n</br>\nNumbered List :\n1. First\n2. Second\n3. Third\n\nTable : \n| Variable | Vale |\n| -------- | ----- |\n| A | 10 |\n| B | 14 |",
      "metadata": {}
    },
    {
      "cell_type": "code",
      "source": "",
      "metadata": {},
      "execution_count": null,
      "outputs": []
    }
  ]
}